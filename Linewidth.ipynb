{
 "cells": [
  {
   "cell_type": "code",
   "execution_count": null,
   "metadata": {},
   "outputs": [],
   "source": [
    "import numpy as np\n",
    "\n",
    "nu_max = 3090 # μHz \n",
    "\n",
    "#constants from Lund paper\n",
    "y = (nu_max/3090)\n",
    "\n",
    "alpha = 2.95*y + 0.39 \n",
    "gamma_alpha = 3.08*y + 3.32\n",
    "delta_gamma_dip = -0.47*y + 0.62\n",
    "Wdip = 4637*y - 141\n",
    "nu_dip = 2984*y+ 60\n",
    "nu = 5000 #example value, eventually we want a range\n",
    "\n",
    "linewidth = np.exp((alpha*np.log(nu/nu_max) + np.log(gamma_alpha)) + ((np.log(delta_gamma_dip))/(1+(((2*np.log(nu/nu_dip))/np.log(Wdip/nu_max))**2))))\n",
    "\n",
    "print(linewidth)"
   ]
  }
 ],
 "metadata": {
  "kernelspec": {
   "display_name": "Python 3",
   "language": "python",
   "name": "python3"
  },
  "language_info": {
   "codemirror_mode": {
    "name": "ipython",
    "version": 3
   },
   "file_extension": ".py",
   "mimetype": "text/x-python",
   "name": "python",
   "nbconvert_exporter": "python",
   "pygments_lexer": "ipython3",
   "version": "3.7.6"
  }
 },
 "nbformat": 4,
 "nbformat_minor": 4
}
